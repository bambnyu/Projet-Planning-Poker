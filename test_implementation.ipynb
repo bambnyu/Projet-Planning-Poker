{
 "cells": [
  {
   "cell_type": "code",
   "execution_count": null,
   "metadata": {},
   "outputs": [],
   "source": []
  },
  {
   "cell_type": "code",
   "execution_count": 9,
   "metadata": {},
   "outputs": [],
   "source": [
    "class  Joueur:\n",
    "    def __init__(self, name):\n",
    "        self.name = name\n",
    "        self.card = None\n",
    "        \n",
    "    def card(self):\n",
    "        return self.card\n",
    "    \n",
    "    def set_card(self, card):\n",
    "        self.card = Carte(card)\n",
    "    \n",
    "    def name(self):\n",
    "        return self.name\n",
    "    \n",
    "    \n",
    "class Carte:\n",
    "    def __init__(self, value):\n",
    "        self.value = value\n",
    "        \n",
    "    def value(self):\n",
    "        return self.value\n",
    "    \n",
    "    \n",
    "        \n",
    "        "
   ]
  },
  {
   "cell_type": "code",
   "execution_count": 10,
   "metadata": {},
   "outputs": [
    {
     "name": "stdout",
     "output_type": "stream",
     "text": [
      "joueur1\n",
      "joueur2\n",
      "<__main__.Carte object at 0x00000296F5848550>\n",
      "None\n",
      "1\n"
     ]
    }
   ],
   "source": [
    "# creer joueur\n",
    "joueur1 = Joueur(\"joueur1\")\n",
    "joueur2 = Joueur(\"joueur2\")\n",
    "joueur1.set_card(1)\n",
    "print(joueur1.name)\n",
    "print(joueur2.name)\n",
    "print(joueur1.card)\n",
    "print(joueur2.card)\n",
    "\n",
    "# creer carte\n",
    "carte1 = Carte(1)\n",
    "print(carte1.value)"
   ]
  }
 ],
 "metadata": {
  "kernelspec": {
   "display_name": "Python 3",
   "language": "python",
   "name": "python3"
  },
  "language_info": {
   "codemirror_mode": {
    "name": "ipython",
    "version": 3
   },
   "file_extension": ".py",
   "mimetype": "text/x-python",
   "name": "python",
   "nbconvert_exporter": "python",
   "pygments_lexer": "ipython3",
   "version": "3.9.13"
  }
 },
 "nbformat": 4,
 "nbformat_minor": 2
}
