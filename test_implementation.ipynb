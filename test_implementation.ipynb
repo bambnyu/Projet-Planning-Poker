{
 "cells": [
  {
   "cell_type": "markdown",
   "metadata": {},
   "source": [
    "### Creation de classe"
   ]
  },
  {
   "cell_type": "code",
   "execution_count": 1,
   "metadata": {},
   "outputs": [],
   "source": [
    "import json"
   ]
  },
  {
   "cell_type": "code",
   "execution_count": 2,
   "metadata": {},
   "outputs": [],
   "source": [
    "class Carte:\n",
    "    def __init__(self, valeur, image):\n",
    "        self.valeur = valeur\n",
    "        self.image = image # chemin vers l'image\n",
    "\n",
    "    def get_valeur(self):\n",
    "        return self.valeur"
   ]
  },
  {
   "cell_type": "code",
   "execution_count": 3,
   "metadata": {},
   "outputs": [],
   "source": [
    "class Joueur:\n",
    "    def __init__(self, nom):\n",
    "        self.nom = nom\n",
    "        self.carte = None\n",
    "        self.deck = [Carte(valeur, f\"cartes_{valeur}.png\") for valeur in [0, 1, 2, 3, 5, 8, 13, 20, 40, 100, \"interro\", \"cafe\"]]\n",
    "        \n",
    "    def set_carte(self, carte):\n",
    "        self.carte = carte\n",
    "\n",
    "    def get_nom(self):\n",
    "        return self.nom\n",
    "\n",
    "    def get_carte(self):\n",
    "        return self.carte.get_valeur() if self.carte else \"Aucune\""
   ]
  },
  {
   "cell_type": "code",
   "execution_count": 4,
   "metadata": {},
   "outputs": [],
   "source": [
    "class Jeu:\n",
    "    def __init__(self):\n",
    "        self.joueurs = []\n",
    "        self.backlogs = []\n",
    "\n",
    "    def ajouter_joueur(self, joueur):\n",
    "        self.joueurs.append(joueur)\n",
    "\n",
    "    def charger_backlog(self, fichier):\n",
    "        with open(fichier, 'r') as f:\n",
    "            self.backlogs = json.load(f)\n",
    "\n",
    "    def voter(self, backlog_item):\n",
    "        backlog_vote = False\n",
    "        while backlog_vote!=True:\n",
    "            print(f\"Vote pour l'item du backlog : {backlog_item}\")\n",
    "            for joueur in self.joueurs:\n",
    "                print(f\"{joueur.get_nom()} a voté : {joueur.get_carte()}\")\n",
    "            if self.verifier_votes():\n",
    "                backlog_item['estimatedDifficulty'] = self.joueurs[0].get_carte() # on enregistre la valeur validée par les joueurs\n",
    "                backlog_vote = True\n",
    "            else:\n",
    "                print(\"Les votes ne sont pas unanimes, on ne peut pas valider la valeur\")\n",
    "            \n",
    "\n",
    "    def verifier_votes(self):\n",
    "        valeurs = set(joueur.get_carte() for joueur in self.joueurs)\n",
    "        return len(valeurs) == 1\n",
    "    \n",
    "    def enregistrer_backlog(self, fichier):\n",
    "        with open(fichier, 'w') as f:\n",
    "            json.dump(self.backlogs, f)\n",
    "        \n",
    "    def afficher_backlog(self):\n",
    "        if self.backlogs['backlogItems']['valeur'] != 'null':\n",
    "            print(\"Pour la tache \",self.backlogs['backlogItems']['description'], \" la valeur est \", self.backlogs['backlogItems']['estimatedDifficulty'])\n",
    "        else : \n",
    "            print(\"Pour la tache \",self.backlogs['backlogItems']['description'], \" la valeur est a determiner\")\n",
    "    "
   ]
  },
  {
   "cell_type": "code",
   "execution_count": 5,
   "metadata": {},
   "outputs": [
    {
     "name": "stdout",
     "output_type": "stream",
     "text": [
      "Ajout de deux joueurs\n",
      "Alice choisit la carte 8\n",
      "Bob choisit la carte 13\n",
      "Vérification des votes\n",
      "False\n",
      "Bob choisit la carte 8\n",
      "Vérification des votes\n",
      "True\n",
      "On affiche la valeur de la carte d'Alice\n",
      "8\n"
     ]
    }
   ],
   "source": [
    "Joueur(\"Bob\").set_carte(Carte(1, \"cartes_1.png\"))\n",
    "Joueur(\"Bob\").get_carte()\n",
    "\n",
    "Joueur(\"Bob\").set_carte(Carte(1, \"cartes_interro.png\"))\n",
    "\n",
    "jeu = Jeu()\n",
    "print(\"Ajout de deux joueurs\")\n",
    "jeu.ajouter_joueur(Joueur(\"Alice\"))\n",
    "jeu.ajouter_joueur(Joueur(\"Bob\"))\n",
    "#jeu.charger_backlog(\"backlog.json\")\n",
    "#jeu.voter(jeu.backlogs[0])\n",
    "\n",
    "print(\"Alice choisit la carte 8\")\n",
    "jeu.joueurs[0].set_carte(jeu.joueurs[0].deck[5])\n",
    "print(\"Bob choisit la carte 13\")\n",
    "jeu.joueurs[1].set_carte(jeu.joueurs[1].deck[6])\n",
    "print(\"Vérification des votes\")\n",
    "print(jeu.verifier_votes())\n",
    "print(\"Bob choisit la carte 8\")\n",
    "jeu.joueurs[1].set_carte(jeu.joueurs[1].deck[5])\n",
    "print(\"Vérification des votes\")\n",
    "print(jeu.verifier_votes())\n",
    "print(\"On affiche la valeur de la carte d'Alice\")\n",
    "print(jeu.joueurs[0].deck[5].get_valeur())\n",
    "\n"
   ]
  },
  {
   "cell_type": "code",
   "execution_count": 9,
   "metadata": {},
   "outputs": [
    {
     "name": "stdout",
     "output_type": "stream",
     "text": [
      "[{'taskId': '1', 'description': 'chercher le pain', 'estimatedDifficulty': 8}, {'taskId': '2', 'description': 'Faire une tarte au fraise', 'estimatedDifficulty': None}]\n",
      "{'taskId': '1', 'description': 'chercher le pain', 'estimatedDifficulty': 8}\n",
      "chercher le pain\n"
     ]
    }
   ],
   "source": [
    "jeu.charger_backlog(\"backlog.json\")\n",
    "\n",
    "print(jeu.backlogs['backlogItems'])\n",
    "\n",
    "print(jeu.backlogs['backlogItems'][0])\n",
    "\n",
    "print(jeu.backlogs['backlogItems'][0]['description'])"
   ]
  },
  {
   "cell_type": "code",
   "execution_count": 10,
   "metadata": {},
   "outputs": [
    {
     "name": "stdout",
     "output_type": "stream",
     "text": [
      "Vote pour l'item du backlog : {'taskId': '1', 'description': 'chercher le pain', 'estimatedDifficulty': 8}\n",
      "Alice a voté : 8\n",
      "Bob a voté : 8\n"
     ]
    }
   ],
   "source": [
    "jeu.voter(jeu.backlogs['backlogItems'][0])"
   ]
  },
  {
   "cell_type": "code",
   "execution_count": 11,
   "metadata": {},
   "outputs": [],
   "source": [
    "jeu.enregistrer_backlog(\"backlog.json\")"
   ]
  },
  {
   "cell_type": "code",
   "execution_count": 1,
   "metadata": {},
   "outputs": [],
   "source": [
    "class Regles:\n",
    "    def __init__(self):\n",
    "        self.mode= \"Classique\" #Classique, strictes, moyenne, médiane, etc\n",
    "\n",
    "    def set_mode(self, mode):\n",
    "        self.mode = mode\n",
    "\n",
    "    def get_mode(self):\n",
    "        return self.mode\n",
    "    \n"
   ]
  },
  {
   "cell_type": "code",
   "execution_count": 1,
   "metadata": {},
   "outputs": [
    {
     "name": "stdout",
     "output_type": "stream",
     "text": [
      "pygame 2.1.0 (SDL 2.0.16, Python 3.7.4)\n",
      "Hello from the pygame community. https://www.pygame.org/contribute.html\n"
     ]
    }
   ],
   "source": [
    "import pygame\n",
    "class Plateau:\n",
    "    def __init__(self):\n",
    "        pygame.init()\n",
    "        screen = pygame.display.set_mode((1280, 720))\n",
    "        clock = pygame.time.Clock()\n",
    "        running = True\n",
    "        Plateau.background = pygame.image.load(\"plateau\\Backgroung.jpg\").convert()\n",
    "        \n",
    "        Plateau.screen.blit(Plateau.background, (0, 0))\n",
    "        pygame.display.flip()\n",
    "\n",
    "    def afficher_Plateau(self):\n",
    "        Plateau.screen.blit(Plateau.background, (0, 0))\n",
    "        pygame.display.flip()\n",
    "\n",
    "\n",
    "    def afficher_carte(self, carte, x, y):\n",
    "        Plateau.screen.blit(pygame.image.load(\"images_cartes\\\\\"+\"cartes_\"+carte+\".svg\").convert(), (x, y))\n",
    "        pygame.display.flip()\n",
    "\n"
   ]
  }
 ],
 "metadata": {
  "kernelspec": {
   "display_name": "Python 3",
   "language": "python",
   "name": "python3"
  },
  "language_info": {
   "codemirror_mode": {
    "name": "ipython",
    "version": 3
   },
   "file_extension": ".py",
   "mimetype": "text/x-python",
   "name": "python",
   "nbconvert_exporter": "python",
   "pygments_lexer": "ipython3",
   "version": "3.7.4"
  }
 },
 "nbformat": 4,
 "nbformat_minor": 2
}
