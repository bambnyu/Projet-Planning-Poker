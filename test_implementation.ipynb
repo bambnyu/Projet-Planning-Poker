{
 "cells": [
  {
   "cell_type": "code",
   "execution_count": 9,
   "metadata": {},
   "outputs": [],
   "source": [
    "class  Joueur:\n",
    "    def __init__(self, name):\n",
    "        self.name = name\n",
    "        self.card = None\n",
    "    \n",
    "    def set_card(self, card):\n",
    "        self.card = Carte(card)\n",
    "    \n",
    "    def name(self):\n",
    "        return self.name\n",
    "    \n",
    "        "
   ]
  },
  {
   "cell_type": "code",
   "execution_count": 10,
   "metadata": {},
   "outputs": [],
   "source": [
    "class Carte:\n",
    "    def __init__(self, value):\n",
    "        self.value = value\n",
    "        \n",
    "    def value(self):\n",
    "        return self.value"
   ]
  },
  {
   "cell_type": "code",
   "execution_count": 11,
   "metadata": {},
   "outputs": [],
   "source": [
    "class Deck:\n",
    "    def __init__(self):\n",
    "        self.cards = []\n",
    "        self.build()\n",
    "    \n",
    "    def build(self):\n",
    "        for i in [0,1,2,3,5,8,13,20,40,100, \"?\", \"break\"]:\n",
    "            self.cards.append(Carte(i))\n",
    "            \n",
    "    def choose_card(self, card):\n",
    "        self.cards.remove(card)\n",
    "        return card\n",
    "    \n",
    "    def show(self):\n",
    "        for card in self.cards:\n",
    "            print(card.value)\n",
    "            "
   ]
  },
  {
   "cell_type": "code",
   "execution_count": 13,
   "metadata": {},
   "outputs": [],
   "source": [
    "class Game:\n",
    "    def __init__(self, players):\n",
    "        self.players = players\n",
    "        self.deck = Deck()\n",
    "        self.deck.show()\n",
    "        \n",
    "    def add_player(self, player_name):\n",
    "        self.players.append(Joueur(player_name))\n",
    "        \n",
    "    def check_vote(self):\n",
    "        # si toutes les valeurs sont les mêmes alors true sinon false\n",
    "        # return all(x == self.players[0].card.value for x in self.players)\n",
    "        for x in self.players.card.value:\n",
    "            if x != self.players[0].card.value:\n",
    "                return False\n",
    "        return True\n",
    "            \n",
    "    \n",
    "    def vote(self):\n",
    "        for player in self.players:\n",
    "            player.set_card(self.deck.choose_card(player.card))\n",
    "        while not self.check_vote():\n",
    "            print(\"cartes des joueurs\")\n",
    "            for player in self.players:\n",
    "                print(player.card.value,player.name)\n",
    "                # chat entre les extremites\n",
    "            \n",
    "            \n",
    "            for player in self.players:\n",
    "                player.set_card(self.deck.choose_card(player.card))\n",
    "                \n",
    "            \n",
    "        \n",
    "    def start(self):\n",
    "        self.vote()\n",
    "            "
   ]
  },
  {
   "cell_type": "code",
   "execution_count": 17,
   "metadata": {},
   "outputs": [
    {
     "name": "stdout",
     "output_type": "stream",
     "text": [
      "joueur1\n",
      "joueur2\n",
      "<__main__.Carte object at 0x0000028493BE3640>\n",
      "None\n",
      "1\n",
      "[<__main__.Carte object at 0x0000028492998AC0>, <__main__.Carte object at 0x0000028492998D90>, <__main__.Carte object at 0x0000028492998C10>, <__main__.Carte object at 0x0000028492998820>, <__main__.Carte object at 0x0000028492998E50>, <__main__.Carte object at 0x000002849286C940>, <__main__.Carte object at 0x000002849286C7C0>, <__main__.Carte object at 0x000002849286C0D0>, <__main__.Carte object at 0x000002849286C700>, <__main__.Carte object at 0x0000028493BA9490>, <__main__.Carte object at 0x0000028493BA9520>, <__main__.Carte object at 0x0000028493A1C820>]\n",
      "0\n",
      "1\n",
      "2\n",
      "3\n",
      "5\n",
      "8\n",
      "13\n",
      "20\n",
      "40\n",
      "100\n",
      "?\n",
      "break\n"
     ]
    },
    {
     "ename": "ValueError",
     "evalue": "list.remove(x): x not in list",
     "output_type": "error",
     "traceback": [
      "\u001b[1;31m---------------------------------------------------------------------------\u001b[0m",
      "\u001b[1;31mValueError\u001b[0m                                Traceback (most recent call last)",
      "\u001b[1;32mc:\\Users\\Ame\\Documents\\GitHub\\Projet-Planning-Poker\\test_implementation.ipynb Cell 5\u001b[0m line \u001b[0;36m1\n\u001b[0;32m     <a href='vscode-notebook-cell:/c%3A/Users/Ame/Documents/GitHub/Projet-Planning-Poker/test_implementation.ipynb#W2sZmlsZQ%3D%3D?line=15'>16</a>\u001b[0m \u001b[39mprint\u001b[39m(deck\u001b[39m.\u001b[39mcards)\n\u001b[0;32m     <a href='vscode-notebook-cell:/c%3A/Users/Ame/Documents/GitHub/Projet-Planning-Poker/test_implementation.ipynb#W2sZmlsZQ%3D%3D?line=16'>17</a>\u001b[0m deck\u001b[39m.\u001b[39mshow()\n\u001b[1;32m---> <a href='vscode-notebook-cell:/c%3A/Users/Ame/Documents/GitHub/Projet-Planning-Poker/test_implementation.ipynb#W2sZmlsZQ%3D%3D?line=17'>18</a>\u001b[0m deck\u001b[39m.\u001b[39;49mchoose_card(carte1)\n",
      "\u001b[1;32mc:\\Users\\Ame\\Documents\\GitHub\\Projet-Planning-Poker\\test_implementation.ipynb Cell 5\u001b[0m line \u001b[0;36m1\n\u001b[0;32m     <a href='vscode-notebook-cell:/c%3A/Users/Ame/Documents/GitHub/Projet-Planning-Poker/test_implementation.ipynb#W2sZmlsZQ%3D%3D?line=9'>10</a>\u001b[0m \u001b[39mdef\u001b[39;00m \u001b[39mchoose_card\u001b[39m(\u001b[39mself\u001b[39m, card):\n\u001b[1;32m---> <a href='vscode-notebook-cell:/c%3A/Users/Ame/Documents/GitHub/Projet-Planning-Poker/test_implementation.ipynb#W2sZmlsZQ%3D%3D?line=10'>11</a>\u001b[0m     \u001b[39mself\u001b[39;49m\u001b[39m.\u001b[39;49mcards\u001b[39m.\u001b[39;49mremove(card)\n\u001b[0;32m     <a href='vscode-notebook-cell:/c%3A/Users/Ame/Documents/GitHub/Projet-Planning-Poker/test_implementation.ipynb#W2sZmlsZQ%3D%3D?line=11'>12</a>\u001b[0m     \u001b[39mreturn\u001b[39;00m card\n",
      "\u001b[1;31mValueError\u001b[0m: list.remove(x): x not in list"
     ]
    }
   ],
   "source": [
    "# creer joueur\n",
    "joueur1 = Joueur(\"joueur1\")\n",
    "joueur2 = Joueur(\"joueur2\")\n",
    "joueur1.set_card(1)\n",
    "print(joueur1.name)\n",
    "print(joueur2.name)\n",
    "print(joueur1.card)\n",
    "print(joueur2.card)\n",
    "\n",
    "# creer carte\n",
    "carte1 = Carte(1)\n",
    "print(carte1.value)\n",
    "\n",
    "# creer deck\n",
    "deck = Deck()\n",
    "print(deck.cards)\n",
    "deck.show()\n",
    "deck.choose_card(carte1)\n",
    "\n"
   ]
  }
 ],
 "metadata": {
  "kernelspec": {
   "display_name": "Python 3",
   "language": "python",
   "name": "python3"
  },
  "language_info": {
   "codemirror_mode": {
    "name": "ipython",
    "version": 3
   },
   "file_extension": ".py",
   "mimetype": "text/x-python",
   "name": "python",
   "nbconvert_exporter": "python",
   "pygments_lexer": "ipython3",
   "version": "3.9.13"
  }
 },
 "nbformat": 4,
 "nbformat_minor": 2
}
