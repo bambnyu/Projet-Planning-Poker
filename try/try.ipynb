{
 "cells": [
  {
   "cell_type": "code",
   "execution_count": 2,
   "metadata": {},
   "outputs": [
    {
     "name": "stdout",
     "output_type": "stream",
     "text": [
      "aaaa\n"
     ]
    },
    {
     "ename": "SystemExit",
     "evalue": "",
     "output_type": "error",
     "traceback": [
      "An exception has occurred, use %tb to see the full traceback.\n",
      "\u001b[1;31mSystemExit\u001b[0m\n"
     ]
    },
    {
     "name": "stderr",
     "output_type": "stream",
     "text": [
      "C:\\Users\\Ame\\AppData\\Roaming\\Python\\Python39\\site-packages\\IPython\\core\\interactiveshell.py:3450: UserWarning: To exit: use 'exit', 'quit', or Ctrl-D.\n",
      "  warn(\"To exit: use 'exit', 'quit', or Ctrl-D.\", stacklevel=1)\n"
     ]
    }
   ],
   "source": [
    "import pygame\n",
    "import sys\n",
    "\n",
    "pygame.init()\n",
    "\n",
    "# Set up the window\n",
    "screen = pygame.display.set_mode((500, 200))\n",
    "pygame.display.set_caption(\"Text Input Example\")\n",
    "\n",
    "# Colors\n",
    "BLACK = (0, 0, 0)\n",
    "WHITE = (255, 255, 255)\n",
    "\n",
    "# Input box properties\n",
    "input_box = pygame.Rect(100, 70, 140, 40)\n",
    "color_inactive = pygame.Color('lightskyblue3')\n",
    "color_active = pygame.Color('dodgerblue2')\n",
    "color = color_inactive\n",
    "active = False\n",
    "text = ''\n",
    "font = pygame.font.Font(None, 32)\n",
    "\n",
    "# Game loop\n",
    "done = False\n",
    "while not done:\n",
    "    for event in pygame.event.get():\n",
    "        if event.type == pygame.QUIT:\n",
    "            done = True\n",
    "        if event.type == pygame.MOUSEBUTTONDOWN:\n",
    "            # If the user clicked on the input_box rect.\n",
    "            if input_box.collidepoint(event.pos):\n",
    "                # Toggle the active variable.\n",
    "                active = not active\n",
    "            else:\n",
    "                active = False\n",
    "            # Change the current color of the input box.\n",
    "            color = color_active if active else color_inactive\n",
    "        if event.type == pygame.KEYDOWN:\n",
    "            if active:\n",
    "                if event.key == pygame.K_RETURN:\n",
    "                    print(text)\n",
    "                elif event.key == pygame.K_BACKSPACE:\n",
    "                    text = text[:-1]\n",
    "                else:\n",
    "                    text += event.unicode\n",
    "\n",
    "    # Render the current text.\n",
    "    txt_surface = font.render(text, True, color)\n",
    "    # Resize the box if the text is too long.\n",
    "    width = max(200, txt_surface.get_width()+10)\n",
    "    input_box.w = width\n",
    "\n",
    "    # Blit the text.\n",
    "    screen.fill(WHITE)\n",
    "    screen.blit(txt_surface, (input_box.x+5, input_box.y+5))\n",
    "    # Blit the input_box rect.\n",
    "    pygame.draw.rect(screen, color, input_box, 2)\n",
    "\n",
    "    pygame.display.flip()\n",
    "\n",
    "print(text)\n",
    "pygame.quit()\n",
    "sys.exit()\n"
   ]
  }
 ],
 "metadata": {
  "kernelspec": {
   "display_name": "Python 3",
   "language": "python",
   "name": "python3"
  },
  "language_info": {
   "codemirror_mode": {
    "name": "ipython",
    "version": 3
   },
   "file_extension": ".py",
   "mimetype": "text/x-python",
   "name": "python",
   "nbconvert_exporter": "python",
   "pygments_lexer": "ipython3",
   "version": "3.9.13"
  }
 },
 "nbformat": 4,
 "nbformat_minor": 2
}
